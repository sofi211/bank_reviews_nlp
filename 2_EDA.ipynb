{
  "nbformat": 4,
  "nbformat_minor": 0,
  "metadata": {
    "colab": {
      "provenance": []
    },
    "kernelspec": {
      "name": "python3",
      "display_name": "Python 3"
    },
    "language_info": {
      "name": "python"
    }
  },
  "cells": [
    {
      "cell_type": "code",
      "source": [
        "import pandas as pd\n",
        "import seaborn as sns\n",
        "import matplotlib.pyplot as plt\n",
        "\n",
        "import warnings\n",
        "warnings.filterwarnings(\"ignore\")"
      ],
      "metadata": {
        "id": "FKSEYquTlTK5"
      },
      "execution_count": 1,
      "outputs": []
    },
    {
      "cell_type": "code",
      "source": [
        "# Подключение к google drive\n",
        "\n",
        "from google.colab import drive\n",
        "drive.mount('/content/drive', force_remount=True)"
      ],
      "metadata": {
        "colab": {
          "base_uri": "https://localhost:8080/"
        },
        "id": "oLxeyraTlTOh",
        "outputId": "3956a012-203f-4685-f69b-f9fbf51c204a"
      },
      "execution_count": 2,
      "outputs": [
        {
          "output_type": "stream",
          "name": "stdout",
          "text": [
            "Mounted at /content/drive\n"
          ]
        }
      ]
    },
    {
      "cell_type": "code",
      "source": [
        "df = pd.read_csv('/content/drive/MyDrive/bank_reviews_nlp/banki_ru_reviews.csv')\n",
        "df.info()"
      ],
      "metadata": {
        "colab": {
          "base_uri": "https://localhost:8080/"
        },
        "id": "Eb3SFKFMlXTX",
        "outputId": "a26ed236-ecb0-4e0c-cbf1-579618d476d8"
      },
      "execution_count": 3,
      "outputs": [
        {
          "output_type": "stream",
          "name": "stdout",
          "text": [
            "<class 'pandas.core.frame.DataFrame'>\n",
            "RangeIndex: 513560 entries, 0 to 513559\n",
            "Data columns (total 18 columns):\n",
            " #   Column                   Non-Null Count   Dtype \n",
            "---  ------                   --------------   ----- \n",
            " 0   url                      513560 non-null  object\n",
            " 1   date_review              513560 non-null  object\n",
            " 2   time_review              513560 non-null  object\n",
            " 3   user_name                513560 non-null  object\n",
            " 4   user_city                513560 non-null  object\n",
            " 5   review_title             513560 non-null  object\n",
            " 6   review_text              513560 non-null  object\n",
            " 7   review_status            513560 non-null  object\n",
            " 8   rating                   513560 non-null  object\n",
            " 9   clear_conditions_rating  513560 non-null  int64 \n",
            " 10  polite_staff_rating      513560 non-null  int64 \n",
            " 11  support_rating           513560 non-null  int64 \n",
            " 12  app_site_rating          513560 non-null  int64 \n",
            " 13  bank_name                513560 non-null  object\n",
            " 14  is_bank_ans              513560 non-null  object\n",
            " 15  time_bank_ans            513529 non-null  object\n",
            " 16  date_bank_ans            513529 non-null  object\n",
            " 17  bank_text_ans            513559 non-null  object\n",
            "dtypes: int64(4), object(14)\n",
            "memory usage: 70.5+ MB\n"
          ]
        }
      ]
    },
    {
      "cell_type": "code",
      "source": [
        "df = df[['review_text', 'bank_name', 'date_review', 'date_bank_ans', 'review_status', 'rating']]\n",
        "df.head()"
      ],
      "metadata": {
        "colab": {
          "base_uri": "https://localhost:8080/",
          "height": 206
        },
        "id": "lWq67w9jmxxC",
        "outputId": "e4c733cb-a51a-4921-dfdf-86223be2bce9"
      },
      "execution_count": 4,
      "outputs": [
        {
          "output_type": "execute_result",
          "data": {
            "text/plain": [
              "                                         review_text      bank_name  \\\n",
              "0  воспользовался услугой перевод баланса на част...  Тинькофф Банк   \n",
              "1  Здравствуйте, хотел бы поделится своим опытом ...     Альфа-Банк   \n",
              "2  Пользуюсь картой Халва уже четыре года.Доволен...     Совкомбанк   \n",
              "3  Нужно было оплатить обязательные налоги за 202...  Тинькофф Банк   \n",
              "4  Карта полностью понравилось ,дали платежные ст...     Альфа-Банк   \n",
              "\n",
              "  date_review date_bank_ans   review_status     rating  \n",
              "0  01.01.2024    2024-01-02  Отзыв проверен  Оценка\\n3  \n",
              "1  01.01.2024    2024-01-12  Отзыв проверен  Оценка\\n5  \n",
              "2  01.01.2024    2024-01-05  Отзыв проверен  Оценка\\n4  \n",
              "3  01.01.2024    2024-01-16  Отзыв проверен  Оценка\\n5  \n",
              "4  01.01.2024    2024-01-13  Отзыв проверен  Оценка\\n5  "
            ],
            "text/html": [
              "\n",
              "  <div id=\"df-01c844d0-97cb-446c-b5c6-608f41e85f70\" class=\"colab-df-container\">\n",
              "    <div>\n",
              "<style scoped>\n",
              "    .dataframe tbody tr th:only-of-type {\n",
              "        vertical-align: middle;\n",
              "    }\n",
              "\n",
              "    .dataframe tbody tr th {\n",
              "        vertical-align: top;\n",
              "    }\n",
              "\n",
              "    .dataframe thead th {\n",
              "        text-align: right;\n",
              "    }\n",
              "</style>\n",
              "<table border=\"1\" class=\"dataframe\">\n",
              "  <thead>\n",
              "    <tr style=\"text-align: right;\">\n",
              "      <th></th>\n",
              "      <th>review_text</th>\n",
              "      <th>bank_name</th>\n",
              "      <th>date_review</th>\n",
              "      <th>date_bank_ans</th>\n",
              "      <th>review_status</th>\n",
              "      <th>rating</th>\n",
              "    </tr>\n",
              "  </thead>\n",
              "  <tbody>\n",
              "    <tr>\n",
              "      <th>0</th>\n",
              "      <td>воспользовался услугой перевод баланса на част...</td>\n",
              "      <td>Тинькофф Банк</td>\n",
              "      <td>01.01.2024</td>\n",
              "      <td>2024-01-02</td>\n",
              "      <td>Отзыв проверен</td>\n",
              "      <td>Оценка\\n3</td>\n",
              "    </tr>\n",
              "    <tr>\n",
              "      <th>1</th>\n",
              "      <td>Здравствуйте, хотел бы поделится своим опытом ...</td>\n",
              "      <td>Альфа-Банк</td>\n",
              "      <td>01.01.2024</td>\n",
              "      <td>2024-01-12</td>\n",
              "      <td>Отзыв проверен</td>\n",
              "      <td>Оценка\\n5</td>\n",
              "    </tr>\n",
              "    <tr>\n",
              "      <th>2</th>\n",
              "      <td>Пользуюсь картой Халва уже четыре года.Доволен...</td>\n",
              "      <td>Совкомбанк</td>\n",
              "      <td>01.01.2024</td>\n",
              "      <td>2024-01-05</td>\n",
              "      <td>Отзыв проверен</td>\n",
              "      <td>Оценка\\n4</td>\n",
              "    </tr>\n",
              "    <tr>\n",
              "      <th>3</th>\n",
              "      <td>Нужно было оплатить обязательные налоги за 202...</td>\n",
              "      <td>Тинькофф Банк</td>\n",
              "      <td>01.01.2024</td>\n",
              "      <td>2024-01-16</td>\n",
              "      <td>Отзыв проверен</td>\n",
              "      <td>Оценка\\n5</td>\n",
              "    </tr>\n",
              "    <tr>\n",
              "      <th>4</th>\n",
              "      <td>Карта полностью понравилось ,дали платежные ст...</td>\n",
              "      <td>Альфа-Банк</td>\n",
              "      <td>01.01.2024</td>\n",
              "      <td>2024-01-13</td>\n",
              "      <td>Отзыв проверен</td>\n",
              "      <td>Оценка\\n5</td>\n",
              "    </tr>\n",
              "  </tbody>\n",
              "</table>\n",
              "</div>\n",
              "    <div class=\"colab-df-buttons\">\n",
              "\n",
              "  <div class=\"colab-df-container\">\n",
              "    <button class=\"colab-df-convert\" onclick=\"convertToInteractive('df-01c844d0-97cb-446c-b5c6-608f41e85f70')\"\n",
              "            title=\"Convert this dataframe to an interactive table.\"\n",
              "            style=\"display:none;\">\n",
              "\n",
              "  <svg xmlns=\"http://www.w3.org/2000/svg\" height=\"24px\" viewBox=\"0 -960 960 960\">\n",
              "    <path d=\"M120-120v-720h720v720H120Zm60-500h600v-160H180v160Zm220 220h160v-160H400v160Zm0 220h160v-160H400v160ZM180-400h160v-160H180v160Zm440 0h160v-160H620v160ZM180-180h160v-160H180v160Zm440 0h160v-160H620v160Z\"/>\n",
              "  </svg>\n",
              "    </button>\n",
              "\n",
              "  <style>\n",
              "    .colab-df-container {\n",
              "      display:flex;\n",
              "      gap: 12px;\n",
              "    }\n",
              "\n",
              "    .colab-df-convert {\n",
              "      background-color: #E8F0FE;\n",
              "      border: none;\n",
              "      border-radius: 50%;\n",
              "      cursor: pointer;\n",
              "      display: none;\n",
              "      fill: #1967D2;\n",
              "      height: 32px;\n",
              "      padding: 0 0 0 0;\n",
              "      width: 32px;\n",
              "    }\n",
              "\n",
              "    .colab-df-convert:hover {\n",
              "      background-color: #E2EBFA;\n",
              "      box-shadow: 0px 1px 2px rgba(60, 64, 67, 0.3), 0px 1px 3px 1px rgba(60, 64, 67, 0.15);\n",
              "      fill: #174EA6;\n",
              "    }\n",
              "\n",
              "    .colab-df-buttons div {\n",
              "      margin-bottom: 4px;\n",
              "    }\n",
              "\n",
              "    [theme=dark] .colab-df-convert {\n",
              "      background-color: #3B4455;\n",
              "      fill: #D2E3FC;\n",
              "    }\n",
              "\n",
              "    [theme=dark] .colab-df-convert:hover {\n",
              "      background-color: #434B5C;\n",
              "      box-shadow: 0px 1px 3px 1px rgba(0, 0, 0, 0.15);\n",
              "      filter: drop-shadow(0px 1px 2px rgba(0, 0, 0, 0.3));\n",
              "      fill: #FFFFFF;\n",
              "    }\n",
              "  </style>\n",
              "\n",
              "    <script>\n",
              "      const buttonEl =\n",
              "        document.querySelector('#df-01c844d0-97cb-446c-b5c6-608f41e85f70 button.colab-df-convert');\n",
              "      buttonEl.style.display =\n",
              "        google.colab.kernel.accessAllowed ? 'block' : 'none';\n",
              "\n",
              "      async function convertToInteractive(key) {\n",
              "        const element = document.querySelector('#df-01c844d0-97cb-446c-b5c6-608f41e85f70');\n",
              "        const dataTable =\n",
              "          await google.colab.kernel.invokeFunction('convertToInteractive',\n",
              "                                                    [key], {});\n",
              "        if (!dataTable) return;\n",
              "\n",
              "        const docLinkHtml = 'Like what you see? Visit the ' +\n",
              "          '<a target=\"_blank\" href=https://colab.research.google.com/notebooks/data_table.ipynb>data table notebook</a>'\n",
              "          + ' to learn more about interactive tables.';\n",
              "        element.innerHTML = '';\n",
              "        dataTable['output_type'] = 'display_data';\n",
              "        await google.colab.output.renderOutput(dataTable, element);\n",
              "        const docLink = document.createElement('div');\n",
              "        docLink.innerHTML = docLinkHtml;\n",
              "        element.appendChild(docLink);\n",
              "      }\n",
              "    </script>\n",
              "  </div>\n",
              "\n",
              "\n",
              "<div id=\"df-4bdf47ec-b0a1-47a4-bf88-2041b1935a1f\">\n",
              "  <button class=\"colab-df-quickchart\" onclick=\"quickchart('df-4bdf47ec-b0a1-47a4-bf88-2041b1935a1f')\"\n",
              "            title=\"Suggest charts\"\n",
              "            style=\"display:none;\">\n",
              "\n",
              "<svg xmlns=\"http://www.w3.org/2000/svg\" height=\"24px\"viewBox=\"0 0 24 24\"\n",
              "     width=\"24px\">\n",
              "    <g>\n",
              "        <path d=\"M19 3H5c-1.1 0-2 .9-2 2v14c0 1.1.9 2 2 2h14c1.1 0 2-.9 2-2V5c0-1.1-.9-2-2-2zM9 17H7v-7h2v7zm4 0h-2V7h2v10zm4 0h-2v-4h2v4z\"/>\n",
              "    </g>\n",
              "</svg>\n",
              "  </button>\n",
              "\n",
              "<style>\n",
              "  .colab-df-quickchart {\n",
              "      --bg-color: #E8F0FE;\n",
              "      --fill-color: #1967D2;\n",
              "      --hover-bg-color: #E2EBFA;\n",
              "      --hover-fill-color: #174EA6;\n",
              "      --disabled-fill-color: #AAA;\n",
              "      --disabled-bg-color: #DDD;\n",
              "  }\n",
              "\n",
              "  [theme=dark] .colab-df-quickchart {\n",
              "      --bg-color: #3B4455;\n",
              "      --fill-color: #D2E3FC;\n",
              "      --hover-bg-color: #434B5C;\n",
              "      --hover-fill-color: #FFFFFF;\n",
              "      --disabled-bg-color: #3B4455;\n",
              "      --disabled-fill-color: #666;\n",
              "  }\n",
              "\n",
              "  .colab-df-quickchart {\n",
              "    background-color: var(--bg-color);\n",
              "    border: none;\n",
              "    border-radius: 50%;\n",
              "    cursor: pointer;\n",
              "    display: none;\n",
              "    fill: var(--fill-color);\n",
              "    height: 32px;\n",
              "    padding: 0;\n",
              "    width: 32px;\n",
              "  }\n",
              "\n",
              "  .colab-df-quickchart:hover {\n",
              "    background-color: var(--hover-bg-color);\n",
              "    box-shadow: 0 1px 2px rgba(60, 64, 67, 0.3), 0 1px 3px 1px rgba(60, 64, 67, 0.15);\n",
              "    fill: var(--button-hover-fill-color);\n",
              "  }\n",
              "\n",
              "  .colab-df-quickchart-complete:disabled,\n",
              "  .colab-df-quickchart-complete:disabled:hover {\n",
              "    background-color: var(--disabled-bg-color);\n",
              "    fill: var(--disabled-fill-color);\n",
              "    box-shadow: none;\n",
              "  }\n",
              "\n",
              "  .colab-df-spinner {\n",
              "    border: 2px solid var(--fill-color);\n",
              "    border-color: transparent;\n",
              "    border-bottom-color: var(--fill-color);\n",
              "    animation:\n",
              "      spin 1s steps(1) infinite;\n",
              "  }\n",
              "\n",
              "  @keyframes spin {\n",
              "    0% {\n",
              "      border-color: transparent;\n",
              "      border-bottom-color: var(--fill-color);\n",
              "      border-left-color: var(--fill-color);\n",
              "    }\n",
              "    20% {\n",
              "      border-color: transparent;\n",
              "      border-left-color: var(--fill-color);\n",
              "      border-top-color: var(--fill-color);\n",
              "    }\n",
              "    30% {\n",
              "      border-color: transparent;\n",
              "      border-left-color: var(--fill-color);\n",
              "      border-top-color: var(--fill-color);\n",
              "      border-right-color: var(--fill-color);\n",
              "    }\n",
              "    40% {\n",
              "      border-color: transparent;\n",
              "      border-right-color: var(--fill-color);\n",
              "      border-top-color: var(--fill-color);\n",
              "    }\n",
              "    60% {\n",
              "      border-color: transparent;\n",
              "      border-right-color: var(--fill-color);\n",
              "    }\n",
              "    80% {\n",
              "      border-color: transparent;\n",
              "      border-right-color: var(--fill-color);\n",
              "      border-bottom-color: var(--fill-color);\n",
              "    }\n",
              "    90% {\n",
              "      border-color: transparent;\n",
              "      border-bottom-color: var(--fill-color);\n",
              "    }\n",
              "  }\n",
              "</style>\n",
              "\n",
              "  <script>\n",
              "    async function quickchart(key) {\n",
              "      const quickchartButtonEl =\n",
              "        document.querySelector('#' + key + ' button');\n",
              "      quickchartButtonEl.disabled = true;  // To prevent multiple clicks.\n",
              "      quickchartButtonEl.classList.add('colab-df-spinner');\n",
              "      try {\n",
              "        const charts = await google.colab.kernel.invokeFunction(\n",
              "            'suggestCharts', [key], {});\n",
              "      } catch (error) {\n",
              "        console.error('Error during call to suggestCharts:', error);\n",
              "      }\n",
              "      quickchartButtonEl.classList.remove('colab-df-spinner');\n",
              "      quickchartButtonEl.classList.add('colab-df-quickchart-complete');\n",
              "    }\n",
              "    (() => {\n",
              "      let quickchartButtonEl =\n",
              "        document.querySelector('#df-4bdf47ec-b0a1-47a4-bf88-2041b1935a1f button');\n",
              "      quickchartButtonEl.style.display =\n",
              "        google.colab.kernel.accessAllowed ? 'block' : 'none';\n",
              "    })();\n",
              "  </script>\n",
              "</div>\n",
              "    </div>\n",
              "  </div>\n"
            ],
            "application/vnd.google.colaboratory.intrinsic+json": {
              "type": "dataframe",
              "variable_name": "df"
            }
          },
          "metadata": {},
          "execution_count": 4
        }
      ]
    },
    {
      "cell_type": "markdown",
      "source": [
        "Предобработаем текст обращения: оставим слова длиной 3 символа и выше, приведем все буквы к строчному виду и заменим часть символов"
      ],
      "metadata": {
        "id": "MVk-kwPSE8Ga"
      }
    },
    {
      "cell_type": "code",
      "source": [
        "df['review_text_processed'] = df['review_text'].apply(lambda x: x.lower())\n",
        "df['review_text_processed'] = df['review_text_processed'].apply(lambda x: x.replace('\\r', ' ').replace('\\n', ' '))\n",
        "df['review_text_processed'] = df['review_text_processed'].apply(lambda x: ' '.join([x for x in x.split() if len(x) >= 3]))\n",
        "\n",
        "df.head()"
      ],
      "metadata": {
        "colab": {
          "base_uri": "https://localhost:8080/",
          "height": 293
        },
        "id": "ErLH8U7nnLJF",
        "outputId": "4bb45496-8670-4f5f-e07c-43ca403190f4"
      },
      "execution_count": 5,
      "outputs": [
        {
          "output_type": "execute_result",
          "data": {
            "text/plain": [
              "                                         review_text      bank_name  \\\n",
              "0  воспользовался услугой перевод баланса на част...  Тинькофф Банк   \n",
              "1  Здравствуйте, хотел бы поделится своим опытом ...     Альфа-Банк   \n",
              "2  Пользуюсь картой Халва уже четыре года.Доволен...     Совкомбанк   \n",
              "3  Нужно было оплатить обязательные налоги за 202...  Тинькофф Банк   \n",
              "4  Карта полностью понравилось ,дали платежные ст...     Альфа-Банк   \n",
              "\n",
              "  date_review date_bank_ans   review_status     rating  \\\n",
              "0  01.01.2024    2024-01-02  Отзыв проверен  Оценка\\n3   \n",
              "1  01.01.2024    2024-01-12  Отзыв проверен  Оценка\\n5   \n",
              "2  01.01.2024    2024-01-05  Отзыв проверен  Оценка\\n4   \n",
              "3  01.01.2024    2024-01-16  Отзыв проверен  Оценка\\n5   \n",
              "4  01.01.2024    2024-01-13  Отзыв проверен  Оценка\\n5   \n",
              "\n",
              "                               review_text_processed  \n",
              "0  воспользовался услугой перевод баланса часть с...  \n",
              "1  здравствуйте, хотел поделится своим опытом бан...  \n",
              "2  пользуюсь картой халва уже четыре года.доволен...  \n",
              "3  нужно было оплатить обязательные налоги 2023 г...  \n",
              "4  карта полностью понравилось ,дали платежные ст...  "
            ],
            "text/html": [
              "\n",
              "  <div id=\"df-1feca4a8-2c5f-4fd7-b671-b6eb4dd565e0\" class=\"colab-df-container\">\n",
              "    <div>\n",
              "<style scoped>\n",
              "    .dataframe tbody tr th:only-of-type {\n",
              "        vertical-align: middle;\n",
              "    }\n",
              "\n",
              "    .dataframe tbody tr th {\n",
              "        vertical-align: top;\n",
              "    }\n",
              "\n",
              "    .dataframe thead th {\n",
              "        text-align: right;\n",
              "    }\n",
              "</style>\n",
              "<table border=\"1\" class=\"dataframe\">\n",
              "  <thead>\n",
              "    <tr style=\"text-align: right;\">\n",
              "      <th></th>\n",
              "      <th>review_text</th>\n",
              "      <th>bank_name</th>\n",
              "      <th>date_review</th>\n",
              "      <th>date_bank_ans</th>\n",
              "      <th>review_status</th>\n",
              "      <th>rating</th>\n",
              "      <th>review_text_processed</th>\n",
              "    </tr>\n",
              "  </thead>\n",
              "  <tbody>\n",
              "    <tr>\n",
              "      <th>0</th>\n",
              "      <td>воспользовался услугой перевод баланса на част...</td>\n",
              "      <td>Тинькофф Банк</td>\n",
              "      <td>01.01.2024</td>\n",
              "      <td>2024-01-02</td>\n",
              "      <td>Отзыв проверен</td>\n",
              "      <td>Оценка\\n3</td>\n",
              "      <td>воспользовался услугой перевод баланса часть с...</td>\n",
              "    </tr>\n",
              "    <tr>\n",
              "      <th>1</th>\n",
              "      <td>Здравствуйте, хотел бы поделится своим опытом ...</td>\n",
              "      <td>Альфа-Банк</td>\n",
              "      <td>01.01.2024</td>\n",
              "      <td>2024-01-12</td>\n",
              "      <td>Отзыв проверен</td>\n",
              "      <td>Оценка\\n5</td>\n",
              "      <td>здравствуйте, хотел поделится своим опытом бан...</td>\n",
              "    </tr>\n",
              "    <tr>\n",
              "      <th>2</th>\n",
              "      <td>Пользуюсь картой Халва уже четыре года.Доволен...</td>\n",
              "      <td>Совкомбанк</td>\n",
              "      <td>01.01.2024</td>\n",
              "      <td>2024-01-05</td>\n",
              "      <td>Отзыв проверен</td>\n",
              "      <td>Оценка\\n4</td>\n",
              "      <td>пользуюсь картой халва уже четыре года.доволен...</td>\n",
              "    </tr>\n",
              "    <tr>\n",
              "      <th>3</th>\n",
              "      <td>Нужно было оплатить обязательные налоги за 202...</td>\n",
              "      <td>Тинькофф Банк</td>\n",
              "      <td>01.01.2024</td>\n",
              "      <td>2024-01-16</td>\n",
              "      <td>Отзыв проверен</td>\n",
              "      <td>Оценка\\n5</td>\n",
              "      <td>нужно было оплатить обязательные налоги 2023 г...</td>\n",
              "    </tr>\n",
              "    <tr>\n",
              "      <th>4</th>\n",
              "      <td>Карта полностью понравилось ,дали платежные ст...</td>\n",
              "      <td>Альфа-Банк</td>\n",
              "      <td>01.01.2024</td>\n",
              "      <td>2024-01-13</td>\n",
              "      <td>Отзыв проверен</td>\n",
              "      <td>Оценка\\n5</td>\n",
              "      <td>карта полностью понравилось ,дали платежные ст...</td>\n",
              "    </tr>\n",
              "  </tbody>\n",
              "</table>\n",
              "</div>\n",
              "    <div class=\"colab-df-buttons\">\n",
              "\n",
              "  <div class=\"colab-df-container\">\n",
              "    <button class=\"colab-df-convert\" onclick=\"convertToInteractive('df-1feca4a8-2c5f-4fd7-b671-b6eb4dd565e0')\"\n",
              "            title=\"Convert this dataframe to an interactive table.\"\n",
              "            style=\"display:none;\">\n",
              "\n",
              "  <svg xmlns=\"http://www.w3.org/2000/svg\" height=\"24px\" viewBox=\"0 -960 960 960\">\n",
              "    <path d=\"M120-120v-720h720v720H120Zm60-500h600v-160H180v160Zm220 220h160v-160H400v160Zm0 220h160v-160H400v160ZM180-400h160v-160H180v160Zm440 0h160v-160H620v160ZM180-180h160v-160H180v160Zm440 0h160v-160H620v160Z\"/>\n",
              "  </svg>\n",
              "    </button>\n",
              "\n",
              "  <style>\n",
              "    .colab-df-container {\n",
              "      display:flex;\n",
              "      gap: 12px;\n",
              "    }\n",
              "\n",
              "    .colab-df-convert {\n",
              "      background-color: #E8F0FE;\n",
              "      border: none;\n",
              "      border-radius: 50%;\n",
              "      cursor: pointer;\n",
              "      display: none;\n",
              "      fill: #1967D2;\n",
              "      height: 32px;\n",
              "      padding: 0 0 0 0;\n",
              "      width: 32px;\n",
              "    }\n",
              "\n",
              "    .colab-df-convert:hover {\n",
              "      background-color: #E2EBFA;\n",
              "      box-shadow: 0px 1px 2px rgba(60, 64, 67, 0.3), 0px 1px 3px 1px rgba(60, 64, 67, 0.15);\n",
              "      fill: #174EA6;\n",
              "    }\n",
              "\n",
              "    .colab-df-buttons div {\n",
              "      margin-bottom: 4px;\n",
              "    }\n",
              "\n",
              "    [theme=dark] .colab-df-convert {\n",
              "      background-color: #3B4455;\n",
              "      fill: #D2E3FC;\n",
              "    }\n",
              "\n",
              "    [theme=dark] .colab-df-convert:hover {\n",
              "      background-color: #434B5C;\n",
              "      box-shadow: 0px 1px 3px 1px rgba(0, 0, 0, 0.15);\n",
              "      filter: drop-shadow(0px 1px 2px rgba(0, 0, 0, 0.3));\n",
              "      fill: #FFFFFF;\n",
              "    }\n",
              "  </style>\n",
              "\n",
              "    <script>\n",
              "      const buttonEl =\n",
              "        document.querySelector('#df-1feca4a8-2c5f-4fd7-b671-b6eb4dd565e0 button.colab-df-convert');\n",
              "      buttonEl.style.display =\n",
              "        google.colab.kernel.accessAllowed ? 'block' : 'none';\n",
              "\n",
              "      async function convertToInteractive(key) {\n",
              "        const element = document.querySelector('#df-1feca4a8-2c5f-4fd7-b671-b6eb4dd565e0');\n",
              "        const dataTable =\n",
              "          await google.colab.kernel.invokeFunction('convertToInteractive',\n",
              "                                                    [key], {});\n",
              "        if (!dataTable) return;\n",
              "\n",
              "        const docLinkHtml = 'Like what you see? Visit the ' +\n",
              "          '<a target=\"_blank\" href=https://colab.research.google.com/notebooks/data_table.ipynb>data table notebook</a>'\n",
              "          + ' to learn more about interactive tables.';\n",
              "        element.innerHTML = '';\n",
              "        dataTable['output_type'] = 'display_data';\n",
              "        await google.colab.output.renderOutput(dataTable, element);\n",
              "        const docLink = document.createElement('div');\n",
              "        docLink.innerHTML = docLinkHtml;\n",
              "        element.appendChild(docLink);\n",
              "      }\n",
              "    </script>\n",
              "  </div>\n",
              "\n",
              "\n",
              "<div id=\"df-115b22e7-5192-41b8-b4c9-cc2e291fc932\">\n",
              "  <button class=\"colab-df-quickchart\" onclick=\"quickchart('df-115b22e7-5192-41b8-b4c9-cc2e291fc932')\"\n",
              "            title=\"Suggest charts\"\n",
              "            style=\"display:none;\">\n",
              "\n",
              "<svg xmlns=\"http://www.w3.org/2000/svg\" height=\"24px\"viewBox=\"0 0 24 24\"\n",
              "     width=\"24px\">\n",
              "    <g>\n",
              "        <path d=\"M19 3H5c-1.1 0-2 .9-2 2v14c0 1.1.9 2 2 2h14c1.1 0 2-.9 2-2V5c0-1.1-.9-2-2-2zM9 17H7v-7h2v7zm4 0h-2V7h2v10zm4 0h-2v-4h2v4z\"/>\n",
              "    </g>\n",
              "</svg>\n",
              "  </button>\n",
              "\n",
              "<style>\n",
              "  .colab-df-quickchart {\n",
              "      --bg-color: #E8F0FE;\n",
              "      --fill-color: #1967D2;\n",
              "      --hover-bg-color: #E2EBFA;\n",
              "      --hover-fill-color: #174EA6;\n",
              "      --disabled-fill-color: #AAA;\n",
              "      --disabled-bg-color: #DDD;\n",
              "  }\n",
              "\n",
              "  [theme=dark] .colab-df-quickchart {\n",
              "      --bg-color: #3B4455;\n",
              "      --fill-color: #D2E3FC;\n",
              "      --hover-bg-color: #434B5C;\n",
              "      --hover-fill-color: #FFFFFF;\n",
              "      --disabled-bg-color: #3B4455;\n",
              "      --disabled-fill-color: #666;\n",
              "  }\n",
              "\n",
              "  .colab-df-quickchart {\n",
              "    background-color: var(--bg-color);\n",
              "    border: none;\n",
              "    border-radius: 50%;\n",
              "    cursor: pointer;\n",
              "    display: none;\n",
              "    fill: var(--fill-color);\n",
              "    height: 32px;\n",
              "    padding: 0;\n",
              "    width: 32px;\n",
              "  }\n",
              "\n",
              "  .colab-df-quickchart:hover {\n",
              "    background-color: var(--hover-bg-color);\n",
              "    box-shadow: 0 1px 2px rgba(60, 64, 67, 0.3), 0 1px 3px 1px rgba(60, 64, 67, 0.15);\n",
              "    fill: var(--button-hover-fill-color);\n",
              "  }\n",
              "\n",
              "  .colab-df-quickchart-complete:disabled,\n",
              "  .colab-df-quickchart-complete:disabled:hover {\n",
              "    background-color: var(--disabled-bg-color);\n",
              "    fill: var(--disabled-fill-color);\n",
              "    box-shadow: none;\n",
              "  }\n",
              "\n",
              "  .colab-df-spinner {\n",
              "    border: 2px solid var(--fill-color);\n",
              "    border-color: transparent;\n",
              "    border-bottom-color: var(--fill-color);\n",
              "    animation:\n",
              "      spin 1s steps(1) infinite;\n",
              "  }\n",
              "\n",
              "  @keyframes spin {\n",
              "    0% {\n",
              "      border-color: transparent;\n",
              "      border-bottom-color: var(--fill-color);\n",
              "      border-left-color: var(--fill-color);\n",
              "    }\n",
              "    20% {\n",
              "      border-color: transparent;\n",
              "      border-left-color: var(--fill-color);\n",
              "      border-top-color: var(--fill-color);\n",
              "    }\n",
              "    30% {\n",
              "      border-color: transparent;\n",
              "      border-left-color: var(--fill-color);\n",
              "      border-top-color: var(--fill-color);\n",
              "      border-right-color: var(--fill-color);\n",
              "    }\n",
              "    40% {\n",
              "      border-color: transparent;\n",
              "      border-right-color: var(--fill-color);\n",
              "      border-top-color: var(--fill-color);\n",
              "    }\n",
              "    60% {\n",
              "      border-color: transparent;\n",
              "      border-right-color: var(--fill-color);\n",
              "    }\n",
              "    80% {\n",
              "      border-color: transparent;\n",
              "      border-right-color: var(--fill-color);\n",
              "      border-bottom-color: var(--fill-color);\n",
              "    }\n",
              "    90% {\n",
              "      border-color: transparent;\n",
              "      border-bottom-color: var(--fill-color);\n",
              "    }\n",
              "  }\n",
              "</style>\n",
              "\n",
              "  <script>\n",
              "    async function quickchart(key) {\n",
              "      const quickchartButtonEl =\n",
              "        document.querySelector('#' + key + ' button');\n",
              "      quickchartButtonEl.disabled = true;  // To prevent multiple clicks.\n",
              "      quickchartButtonEl.classList.add('colab-df-spinner');\n",
              "      try {\n",
              "        const charts = await google.colab.kernel.invokeFunction(\n",
              "            'suggestCharts', [key], {});\n",
              "      } catch (error) {\n",
              "        console.error('Error during call to suggestCharts:', error);\n",
              "      }\n",
              "      quickchartButtonEl.classList.remove('colab-df-spinner');\n",
              "      quickchartButtonEl.classList.add('colab-df-quickchart-complete');\n",
              "    }\n",
              "    (() => {\n",
              "      let quickchartButtonEl =\n",
              "        document.querySelector('#df-115b22e7-5192-41b8-b4c9-cc2e291fc932 button');\n",
              "      quickchartButtonEl.style.display =\n",
              "        google.colab.kernel.accessAllowed ? 'block' : 'none';\n",
              "    })();\n",
              "  </script>\n",
              "</div>\n",
              "    </div>\n",
              "  </div>\n"
            ],
            "application/vnd.google.colaboratory.intrinsic+json": {
              "type": "dataframe",
              "variable_name": "df"
            }
          },
          "metadata": {},
          "execution_count": 5
        }
      ]
    },
    {
      "cell_type": "markdown",
      "source": [
        "Посчитаем длину текста обращений и посмотрим на статистику по нему"
      ],
      "metadata": {
        "id": "iYH0w95StWtT"
      }
    },
    {
      "cell_type": "code",
      "source": [
        "df['review_text_length'] = df['review_text_processed'].apply(lambda x: len(x.split()))\n",
        "df['review_text_length'].describe().round(2)"
      ],
      "metadata": {
        "colab": {
          "base_uri": "https://localhost:8080/"
        },
        "id": "HrnxrHvpyVa3",
        "outputId": "c244fd27-3fd1-4e48-b87b-92838fbebc41"
      },
      "execution_count": 6,
      "outputs": [
        {
          "output_type": "execute_result",
          "data": {
            "text/plain": [
              "count    513560.00\n",
              "mean         98.80\n",
              "std          70.94\n",
              "min           0.00\n",
              "25%          44.00\n",
              "50%          86.00\n",
              "75%         123.00\n",
              "max        4507.00\n",
              "Name: review_text_length, dtype: float64"
            ]
          },
          "metadata": {},
          "execution_count": 6
        }
      ]
    },
    {
      "cell_type": "code",
      "source": [
        "# для Газпромбанка\n",
        "\n",
        "df[df.bank_name == 'Газпромбанк']['review_text_length'].describe().round(2)"
      ],
      "metadata": {
        "colab": {
          "base_uri": "https://localhost:8080/"
        },
        "id": "QVgTp411wCCF",
        "outputId": "59df0a7a-173d-40d1-fa74-986f754084a8"
      },
      "execution_count": 7,
      "outputs": [
        {
          "output_type": "execute_result",
          "data": {
            "text/plain": [
              "count    9389.00\n",
              "mean      120.53\n",
              "std        83.27\n",
              "min         2.00\n",
              "25%        62.00\n",
              "50%        99.00\n",
              "75%       151.00\n",
              "max       564.00\n",
              "Name: review_text_length, dtype: float64"
            ]
          },
          "metadata": {},
          "execution_count": 7
        }
      ]
    },
    {
      "cell_type": "code",
      "source": [
        "plt.subplots(figsize=(15, 5))\n",
        "\n",
        "plt.subplot(1, 2, 1)\n",
        "plt.title(\"Длина текста обращения (для всех банков)\")\n",
        "df[df['review_text_length'] <= 500]['review_text_length'].hist(bins=50)\n",
        "\n",
        "plt.subplot(1, 2, 2)\n",
        "plt.title(\"Длина текста обращения (Газпромбанк)\")\n",
        "df[df.bank_name == 'Газпромбанк']['review_text_length'].hist(bins=50);"
      ],
      "metadata": {
        "colab": {
          "base_uri": "https://localhost:8080/",
          "height": 468
        },
        "id": "cDx85O-gxPbt",
        "outputId": "1de1aba4-5159-4ecc-a178-c95022744040"
      },
      "execution_count": 8,
      "outputs": [
        {
          "output_type": "display_data",
          "data": {
            "text/plain": [
              "<Figure size 1500x500 with 2 Axes>"
            ],
            "image/png": "[encoded data removed]"
          },
          "metadata": {}
        }
      ]
    },
    {
      "cell_type": "markdown",
      "source": [
        "Посмотрим, как быстро банки отвечают на обращения пользователей"
      ],
      "metadata": {
        "id": "Nj175xLRr6yf"
      }
    },
    {
      "cell_type": "code",
      "source": [
        "# Оставим только те, где есть ответы банка (~99.4 %)\n",
        "df = df[df['date_bank_ans'] != 'unk']\n",
        "\n",
        "df['date_review'] = pd.to_datetime(df['date_review'], format='%d.%m.%Y')\n",
        "df['date_bank_ans'] = pd.to_datetime(df['date_bank_ans'])\n",
        "\n",
        "df['answer_length'] = (df['date_bank_ans'] - df['date_review']).dt.days"
      ],
      "metadata": {
        "id": "b7SGaSUKbg9h"
      },
      "execution_count": 9,
      "outputs": []
    },
    {
      "cell_type": "code",
      "source": [
        "df['answer_length'].describe().round(2)"
      ],
      "metadata": {
        "colab": {
          "base_uri": "https://localhost:8080/"
        },
        "id": "604KnVXNqDRT",
        "outputId": "21adb2cf-95fb-4356-9c54-384073d8f932"
      },
      "execution_count": 10,
      "outputs": [
        {
          "output_type": "execute_result",
          "data": {
            "text/plain": [
              "count    510637.00\n",
              "mean          9.75\n",
              "std          16.60\n",
              "min           0.00\n",
              "25%           1.00\n",
              "50%           4.00\n",
              "75%          10.00\n",
              "max         373.00\n",
              "Name: answer_length, dtype: float64"
            ]
          },
          "metadata": {},
          "execution_count": 10
        }
      ]
    },
    {
      "cell_type": "code",
      "source": [
        "df[df['bank_name'] == 'Газпромбанк']['answer_length'].describe().round(2)"
      ],
      "metadata": {
        "colab": {
          "base_uri": "https://localhost:8080/"
        },
        "id": "yDWJCwgRHTMz",
        "outputId": "c026393b-2309-4436-982a-742f36914ca1"
      },
      "execution_count": 11,
      "outputs": [
        {
          "output_type": "execute_result",
          "data": {
            "text/plain": [
              "count    9388.00\n",
              "mean        0.52\n",
              "std         2.49\n",
              "min         0.00\n",
              "25%         0.00\n",
              "50%         0.00\n",
              "75%         1.00\n",
              "max       142.00\n",
              "Name: answer_length, dtype: float64"
            ]
          },
          "metadata": {},
          "execution_count": 11
        }
      ]
    },
    {
      "cell_type": "code",
      "source": [
        "plt.subplots(figsize=(15, 5))\n",
        "\n",
        "plt.subplot(1, 2, 1)\n",
        "plt.title(\"Длительность ответа в днях (для всех банков)\")\n",
        "sns.boxplot(x=df['answer_length'])\n",
        "\n",
        "plt.subplot(1, 2, 2)\n",
        "plt.title(\"Длительность ответа в днях (Газпромбанк)\")\n",
        "sns.boxplot(x=df[df['bank_name'] == 'Газпромбанк']['answer_length']);"
      ],
      "metadata": {
        "colab": {
          "base_uri": "https://localhost:8080/",
          "height": 487
        },
        "id": "i_JkEaAic1sR",
        "outputId": "3b4e159a-2097-4a33-dc22-6245ae5cc32b"
      },
      "execution_count": 12,
      "outputs": [
        {
          "output_type": "display_data",
          "data": {
            "text/plain": [
              "<Figure size 1500x500 with 2 Axes>"
            ],
            "image/png": "[encoded data removed]"
          },
          "metadata": {}
        }
      ]
    },
    {
      "cell_type": "markdown",
      "source": [
        "Изучим, как распределен оценки"
      ],
      "metadata": {
        "id": "NNpH2c27Hnix"
      }
    },
    {
      "cell_type": "code",
      "source": [
        "# Оствим только те отзывы, где есть оценка, то есть отзыв проверен и учитывается в рейтинге\n",
        "\n",
        "df = df[(df['review_status'] != 'unk') & (df['review_status'] != 'Отзыв проверяется')]\n",
        "df['rating'] = df['rating'].apply(lambda x: x[-1])\n",
        "df['rating'] = df['rating'].astype('int')\n",
        "\n",
        "df['rating'].describe().round(2)"
      ],
      "metadata": {
        "colab": {
          "base_uri": "https://localhost:8080/"
        },
        "id": "Fk4EOFCPI4yD",
        "outputId": "d54fa1a6-8d1d-40fa-bfbe-c75d77895939"
      },
      "execution_count": 13,
      "outputs": [
        {
          "output_type": "execute_result",
          "data": {
            "text/plain": [
              "count    481298.00\n",
              "mean          4.40\n",
              "std           1.36\n",
              "min           1.00\n",
              "25%           5.00\n",
              "50%           5.00\n",
              "75%           5.00\n",
              "max           5.00\n",
              "Name: rating, dtype: float64"
            ]
          },
          "metadata": {},
          "execution_count": 13
        }
      ]
    },
    {
      "cell_type": "code",
      "source": [
        "df[df['bank_name'] == 'Газпромбанк']['rating'].describe().round(2)"
      ],
      "metadata": {
        "colab": {
          "base_uri": "https://localhost:8080/"
        },
        "id": "hn1W7CrXtyNz",
        "outputId": "87846beb-4446-4b84-b8db-00e5de7f989b"
      },
      "execution_count": 14,
      "outputs": [
        {
          "output_type": "execute_result",
          "data": {
            "text/plain": [
              "count    8695.00\n",
              "mean        2.60\n",
              "std         1.85\n",
              "min         1.00\n",
              "25%         1.00\n",
              "50%         1.00\n",
              "75%         5.00\n",
              "max         5.00\n",
              "Name: rating, dtype: float64"
            ]
          },
          "metadata": {},
          "execution_count": 14
        }
      ]
    },
    {
      "cell_type": "code",
      "source": [
        "plt.subplots(figsize=(15, 5))\n",
        "\n",
        "plt.subplot(1, 2, 1)\n",
        "plt.title(\"Кол-во отзывов по банкам (топ-10)\")\n",
        "sns.boxplot(x=df['rating'])\n",
        "\n",
        "plt.subplot(1, 2, 2)\n",
        "plt.title(\"Кол-во отзывов по банкам (топ-10)\")\n",
        "sns.boxplot(x=df[df.bank_name == 'Газпромбанк']['rating']);"
      ],
      "metadata": {
        "colab": {
          "base_uri": "https://localhost:8080/",
          "height": 487
        },
        "id": "kV3Dim3VqozZ",
        "outputId": "71b9fec5-aa72-4115-88e3-7b02977c4b42"
      },
      "execution_count": 15,
      "outputs": [
        {
          "output_type": "display_data",
          "data": {
            "text/plain": [
              "<Figure size 1500x500 with 2 Axes>"
            ],
            "image/png": "[encoded data removed]"
          },
          "metadata": {}
        }
      ]
    },
    {
      "cell_type": "markdown",
      "source": [
        "Посмотрим корреляцию между временем ответа банка и рейтингом и проверим гипотезу: зависит ли длительность подготовки ответа от оценки (в том смысле, что для хороших оценок охотнее готовят ответ)"
      ],
      "metadata": {
        "id": "HQRmwgQVeM-I"
      }
    },
    {
      "cell_type": "code",
      "source": [
        "df['rating'].corr(df['answer_length'])"
      ],
      "metadata": {
        "colab": {
          "base_uri": "https://localhost:8080/"
        },
        "id": "NAXp283utIcK",
        "outputId": "c6095b30-13b9-4cf1-959b-43aa4e5201ef"
      },
      "execution_count": 16,
      "outputs": [
        {
          "output_type": "execute_result",
          "data": {
            "text/plain": [
              "0.09516831212506824"
            ]
          },
          "metadata": {},
          "execution_count": 16
        }
      ]
    },
    {
      "cell_type": "markdown",
      "source": [
        "Видим очень незначительную положительную корреляцию. То есть получаем, что есть очень небольшая прямая зависимость - с увеличением оценки, чуть увеличивается время ожидания ответа банка.\n",
        "\n",
        "Это логично - скорее всего банк будет довольно быстро реагировать и отвечать на отзывы с плохой оценкой и медленнее на отзывы с хорошей."
      ],
      "metadata": {
        "id": "OWEsB1rCeZi3"
      }
    },
    {
      "cell_type": "code",
      "source": [],
      "metadata": {
        "id": "8Wzy0v0AfPlv"
      },
      "execution_count": 16,
      "outputs": []
    }
  ]
}