{
  "cells": [
    {
      "cell_type": "code",
      "execution_count": 1,
      "metadata": {
        "colab": {
          "base_uri": "https://localhost:8080/"
        },
        "id": "XNjdqqe5Esko",
        "outputId": "794d4ddd-09f1-4c62-aa8f-d43db11ecd65"
      },
      "outputs": [
        {
          "output_type": "stream",
          "name": "stdout",
          "text": [
            "Requirement already satisfied: fake_useragent in /usr/local/lib/python3.10/dist-packages (1.5.1)\n"
          ]
        }
      ],
      "source": [
        "!pip install fake_useragent"
      ]
    },
    {
      "cell_type": "code",
      "execution_count": 2,
      "metadata": {
        "id": "hmoJD-_TOmCJ"
      },
      "outputs": [],
      "source": [
        "import re\n",
        "import csv\n",
        "import time\n",
        "import json\n",
        "import random\n",
        "import requests\n",
        "import numpy as np\n",
        "import pandas as pd\n",
        "from tqdm import tqdm\n",
        "import concurrent.futures\n",
        "from bs4 import BeautifulSoup\n",
        "from fake_useragent import UserAgent\n",
        "from concurrent.futures import ThreadPoolExecutor, as_completed"
      ]
    },
    {
      "cell_type": "code",
      "source": [
        "# Подключение к google drive\n",
        "\n",
        "from google.colab import drive\n",
        "drive.mount('/content/drive', force_remount=True)"
      ],
      "metadata": {
        "colab": {
          "base_uri": "https://localhost:8080/"
        },
        "id": "x_efpXujJmv_",
        "outputId": "4408de6c-e36f-44ef-b76f-8400fed18865"
      },
      "execution_count": 3,
      "outputs": [
        {
          "output_type": "stream",
          "name": "stdout",
          "text": [
            "Mounted at /content/drive\n"
          ]
        }
      ]
    },
    {
      "cell_type": "markdown",
      "source": [
        "### Рейтинг банков - https://www.banki.ru/services/responses/\n",
        "\n",
        "Результаты будем сохранять в файл **banki_banks_{year}.csv**.\n",
        "\n",
        "* place - место в рейтинге\n",
        "* name - название банка (на русском языке)\n",
        "* rating - рейтинг\n",
        "* responses - кол-во отзывов\n",
        "* answers - кол-во ответов банка"
      ],
      "metadata": {
        "id": "pCMzQYz7v_yA"
      }
    },
    {
      "cell_type": "code",
      "execution_count": 4,
      "metadata": {
        "id": "JFG4mIfbwOP5",
        "colab": {
          "base_uri": "https://localhost:8080/"
        },
        "outputId": "fdd44b78-5c2f-4fe2-e4df-ed8e88f1b66d"
      },
      "outputs": [
        {
          "output_type": "stream",
          "name": "stdout",
          "text": [
            "CPU times: user 4.01 s, sys: 89.5 ms, total: 4.1 s\n",
            "Wall time: 19 s\n"
          ]
        }
      ],
      "source": [
        "%%time\n",
        "\n",
        "for year in [2023, 2024]:\n",
        "\n",
        "  df = pd.DataFrame({'place':[], 'name':[], 'rating':[], 'responses':[], 'answers':[]})\n",
        "\n",
        "  page = 1\n",
        "  i = 1\n",
        "  while True:\n",
        "\n",
        "    url = f'https://www.banki.ru/services/responses/?date={year}&page={page}'\n",
        "    response = requests.get(url)\n",
        "    soup = BeautifulSoup(response.content, 'html.parser')\n",
        "    items = soup.find_all(\"script\", {\"type\": \"application/ld+json\"})\n",
        "\n",
        "    if len(items) == 1:\n",
        "      break\n",
        "\n",
        "    for item in items[:50]:\n",
        "      data = json.loads(item.text)\n",
        "      if 'name' in data:\n",
        "        place = i\n",
        "        name = data['name']\n",
        "        rating = data['aggregateRating']['ratingValue']\n",
        "        responses = data['aggregateRating']['ratingCount']\n",
        "        answers = data['aggregateRating']['reviewCount']\n",
        "\n",
        "        df.loc[len(df)] = [i, name, rating, responses, answers]\n",
        "        i += 1\n",
        "    page += 1\n",
        "\n",
        "  df.to_csv(f'/content/drive/MyDrive/bank_reviews_nlp/banki_banks_{year}.csv', index=False)"
      ]
    },
    {
      "cell_type": "markdown",
      "source": [
        "### Отзывы о банках - https://www.banki.ru/services/responses/list/?type=all\n",
        "\n",
        "Парсить отзывы на банки будем в 2 этапа: сначала ссылки на отзывы, затем будем переходить по каждой их них и парсить сам отзыв.\n",
        "\n",
        "Для выбора страниц необходимо вручную найти нужный временной диапазон. Для примера спарсим ссылки с первых 20 страниц."
      ],
      "metadata": {
        "id": "6zelcOPLFvca"
      }
    },
    {
      "cell_type": "code",
      "execution_count": 5,
      "metadata": {
        "colab": {
          "base_uri": "https://localhost:8080/"
        },
        "id": "Sko62LAeZwOs",
        "outputId": "d47f2bd3-ad52-4d01-8627-dc80f3a950d9"
      },
      "outputs": [
        {
          "output_type": "stream",
          "name": "stderr",
          "text": [
            "100%|██████████| 20/20 [00:42<00:00,  2.14s/it]"
          ]
        },
        {
          "output_type": "stream",
          "name": "stdout",
          "text": [
            "CPU times: user 6.67 s, sys: 114 ms, total: 6.78 s\n",
            "Wall time: 42.9 s\n"
          ]
        },
        {
          "output_type": "stream",
          "name": "stderr",
          "text": [
            "\n"
          ]
        }
      ],
      "source": [
        "# Ссылки на отзывы - однопоточный\n",
        "\n",
        "%%time\n",
        "\n",
        "base_url = 'https://www.banki.ru'\n",
        "\n",
        "with open('/content/drive/MyDrive/bank_reviews_nlp/banki_ru_urls.csv', \"w\", encoding='utf-8') as w_file:\n",
        "  file_writer = csv.writer(w_file, delimiter = \",\", lineterminator=\"\\n\")\n",
        "  file_writer.writerow(['url'])\n",
        "\n",
        "  for page in tqdm(range(1,21)):\n",
        "\n",
        "    url = f'https://www.banki.ru/services/responses/list/?type=all&page={page}'\n",
        "    response = requests.get(url)\n",
        "    soup = BeautifulSoup(response.content, 'html.parser')\n",
        "\n",
        "\n",
        "    items = soup.find_all('a', attrs={'class': 'link-simple',\n",
        "                                      'data-gtm-click': '{\"event\":\"GTM_event\",\"eventCategory\":\"ux_data\",\"eventAction\":\"click_responses_response_user_rating_banking_allReviewsPage\"}'})\n",
        "\n",
        "    for item in items:\n",
        "\n",
        "      url_resp = base_url+item['href']\n",
        "\n",
        "      file_writer.writerow([url_resp])\n",
        "\n",
        "    if page % 10 == 0:\n",
        "      w_file.flush()"
      ]
    },
    {
      "cell_type": "markdown",
      "source": [
        "Для сокращение времени будем использовать многопоточность.\n",
        "\n",
        "\n",
        "\n",
        "Хорошая статья про библиотеку concurrent.futures, которую мы будем использовать\n",
        "https://habr.com/ru/companies/otus/articles/771346/."
      ],
      "metadata": {
        "id": "4Q7H7_KphKWa"
      }
    },
    {
      "cell_type": "code",
      "execution_count": 6,
      "metadata": {
        "colab": {
          "base_uri": "https://localhost:8080/"
        },
        "id": "ZeC9ZSHgyDLy",
        "outputId": "782fde44-d75b-486a-bd9f-61c34890688a"
      },
      "outputs": [
        {
          "output_type": "stream",
          "name": "stderr",
          "text": [
            "100%|██████████| 20/20 [00:10<00:00,  1.95it/s]"
          ]
        },
        {
          "output_type": "stream",
          "name": "stdout",
          "text": [
            "CPU times: user 8 s, sys: 198 ms, total: 8.2 s\n",
            "Wall time: 10.3 s\n"
          ]
        },
        {
          "output_type": "stream",
          "name": "stderr",
          "text": [
            "\n"
          ]
        }
      ],
      "source": [
        "# Ссылки на отзывы - многопоточный\n",
        "\n",
        "%%time\n",
        "\n",
        "ua = UserAgent()\n",
        "user_agents = [ua.chrome, ua.google, ua['google chrome'], ua.firefox, ua.ff, ua.safari]\n",
        "\n",
        "def get_urls(url):\n",
        "\n",
        "  headers = {'User-Agent': random.choice(user_agents)}\n",
        "  response = requests.get(url, headers=headers, timeout=30)\n",
        "  soup = BeautifulSoup(response.content, 'html.parser')\n",
        "\n",
        "  items = soup.find_all('a', attrs={'class': 'link-simple',\n",
        "                                    'data-gtm-click': '{\"event\":\"GTM_event\",\"eventCategory\":\"ux_data\",\"eventAction\":\"click_responses_response_user_rating_banking_allReviewsPage\"}'})\n",
        "\n",
        "  urls = []\n",
        "  for item in items:\n",
        "    urls.append('https://www.banki.ru' + item['href'])\n",
        "\n",
        "  return urls\n",
        "\n",
        "\n",
        "def write_to_csv(urls):\n",
        "  with open('/content/drive/MyDrive/bank_reviews_nlp/banki_ru_urls.csv', \"a\", encoding='utf-8') as w_file:\n",
        "    file_writer = csv.writer(w_file, delimiter=\",\", lineterminator=\"\\n\")\n",
        "    for url in urls:\n",
        "      file_writer.writerow([url])\n",
        "\n",
        "\n",
        "urls = [f'https://www.banki.ru/services/responses/list/?type=all&page={page}' for page in range(1, 21)]\n",
        "\n",
        "with open('/content/drive/MyDrive/bank_reviews_nlp/banki_ru_urls.csv', \"a\", encoding='utf-8') as w_file:\n",
        "    file_writer = csv.writer(w_file, delimiter=\",\", lineterminator=\"\\n\")\n",
        "    file_writer.writerow(['url'])\n",
        "\n",
        "err = open('/content/drive/MyDrive/bank_reviews_nlp/errors.txt', 'a')\n",
        "\n",
        "with ThreadPoolExecutor(max_workers=8) as executor:\n",
        "  futures = [executor.submit(get_urls, url) for url in urls]\n",
        "  for future in tqdm(as_completed(futures), total=len(urls)):\n",
        "    try:\n",
        "      results = future.result()\n",
        "      add_row = True\n",
        "    except Exception as exc:\n",
        "      add_row = False\n",
        "      err.write(str(type(exc)) + '\\n')\n",
        "    finally:\n",
        "      if add_row == True:\n",
        "        write_to_csv(results)\n",
        "      else:\n",
        "        pass\n",
        "\n",
        "w_file.close()\n",
        "err.close()"
      ]
    },
    {
      "cell_type": "markdown",
      "source": [
        "Видно, что в результате использования многопоточности получилось уменьшить время в ~4 раза.\n",
        "\n",
        "Для скачивания ссылок за 2023 год (полностью) и 1 квартал 2024 года понадобилось около 3.5 часов против 15 часов, без использования многопоточности.\n",
        "Количество отзывов - 477 тысяч.\n",
        "\n",
        "Далее будем переходить по этим ссылкам и парсить отзывы."
      ],
      "metadata": {
        "id": "---0wPODlvIM"
      }
    },
    {
      "cell_type": "markdown",
      "source": [
        "Результаты будем сохранять в файл - **banki_ru_reviews.csv**.\n",
        "\n",
        "* url - ссылка на отзыв\n",
        "* date_review - дата оставления отзыва\n",
        "* time_review - время оставления отзыва\n",
        "* user_name - имя пользователя\n",
        "* user_city - город пользователя\n",
        "* review_title - тема обращения\n",
        "* review_text - текст обращения\n",
        "* review_status - статус обращения (проверяется/проверен)\n",
        "* rating - оценка\n",
        "* clear_conditions_rating - оценка прозрачности условий\n",
        "* polite_staff_rating - оценка вежливости сотрудников\n",
        "* support_rating - оценка доступности и поддержки\n",
        "* app_site_rating - оценка удобства приложения, сайта\n",
        "* bank_name - назание банка (на русском языке)\n",
        "* is_bank_ans - наличие ответа банка (yes/no)\n",
        "* time_bank_ans - время оставления ответа банка\n",
        "* date_bank_ans - дата оставления ответа банка\n",
        "* bank_text_ans - текст ответа банка"
      ],
      "metadata": {
        "id": "WuI3jw-EwF4G"
      }
    },
    {
      "cell_type": "code",
      "source": [
        "%%time\n",
        "\n",
        "ua = UserAgent()\n",
        "user_agents = [ua.chrome, ua.google, ua['google chrome'], ua.firefox, ua.ff, ua.safari]\n",
        "\n",
        "def get_review(url):\n",
        "\n",
        "  headers = {'user-Agent': random.choice(user_agents)}\n",
        "  response = requests.get(url, headers=headers, timeout=30)\n",
        "  soup = BeautifulSoup(response.content, 'html.parser')\n",
        "\n",
        "  date_review = soup.find('span', {'class':'l10fac986'}).text[4:14]\n",
        "  time_review = soup.find('span', {'class':'l10fac986'}).text[15:20]\n",
        "  user_name = soup.find('span', {'class':'l17191939'}).text.strip()\n",
        "  user_city = soup.find('span', {'class':'l3a372298'}).text\n",
        "  review_title = soup.find('h1', {'class':'text-header-0 le856f50c'}).text.strip()\n",
        "  review_text = soup.find(\"div\", {\"class\":\"lf4cbd87d ld6d46e58 lfd76152f\"}).text.strip()\n",
        "  rating = soup.find('div', {'class':'lbb810226'}).text.strip()\n",
        "  if rating == 'Без оценки':\n",
        "    review_status = 'unk'\n",
        "  else:\n",
        "    review_status = soup.find('section', {'class':'lf4cbd87d l9656ec89 lfd76152f'}).text.strip()\n",
        "\n",
        "  additional_grades = {}\n",
        "  for txts6 in soup.find_all('div', {\"class\": 'text-size-6'}):\n",
        "      additional_grades[txts6.text] = 0\n",
        "  i = 0\n",
        "  for grade in soup.find_all('div', {'class': 'ld017b199'}):\n",
        "      current_key = list(additional_grades.keys())[i]\n",
        "      additional_grades[current_key] = str(grade).count(\"l61f54b7b\")\n",
        "      i += 1\n",
        "  clear_conditions_rating = additional_grades.get('Прозрачные условия', 0)\n",
        "  polite_staff_rating = additional_grades.get('Вежливые сотрудники', 0)\n",
        "  support_rating = additional_grades.get('Доступность и поддержка', 0)\n",
        "  app_site_rating = additional_grades.get('Удобство приложения, сайта', 0)\n",
        "\n",
        "  bank_name = soup.find('img', {'class':'lazy-load'})['alt']\n",
        "  bank_ans = soup.find('div', {'class':'l0e7bcaa7'})\n",
        "  if bank_ans is None:\n",
        "    is_bank_ans = 'no'\n",
        "    date_bank_ans = 'unk'\n",
        "    time_bank_ans = 'unk'\n",
        "    bank_text_ans = 'unk'\n",
        "  else:\n",
        "    is_bank_ans = 'yes'\n",
        "    date_bank_ans = soup.find('div', {'class':'l0e7bcaa7'}).find('div', {'class':'l46c44745'}).text[:10].strip()\n",
        "    time_bank_ans = soup.find('div', {'class':'l0e7bcaa7'}).find('div', {'class':'l46c44745'}).text[11:19].strip()\n",
        "    bank_text_ans = soup.find('div', {'class':'l0e7bcaa7'}).find('div', {'class':'lb1789875'}).text.strip()\n",
        "\n",
        "  review_row = [url, date_review, time_review, user_name, user_city, review_title, review_text, review_status,\n",
        "               rating, clear_conditions_rating, polite_staff_rating, support_rating, app_site_rating,\n",
        "               bank_name, is_bank_ans, time_bank_ans, date_bank_ans, bank_text_ans]\n",
        "\n",
        "  return review_row\n",
        "\n",
        "\n",
        "def write_to_csv(review_row):\n",
        "  with open('/content/drive/MyDrive/bank_reviews_nlp/banki_ru_reviews.csv', \"a\", encoding='utf-8') as w_file:\n",
        "    file_writer = csv.writer(w_file, delimiter=\",\", lineterminator=\"\\n\")\n",
        "    file_writer.writerow(review_row)\n",
        "\n",
        "urls = pd.read_csv('/content/drive/MyDrive/bank_reviews_nlp/banki_ru_urls.csv')\n",
        "urls = urls.iloc[:,0].tolist()\n",
        "\n",
        "with open('/content/drive/MyDrive/bank_reviews_nlp/banki_ru_reviews.csv', \"w\", encoding='utf-8') as w_file:\n",
        "  file_writer = csv.writer(w_file, delimiter = \",\", lineterminator=\"\\n\")\n",
        "  file_writer.writerow(['url', 'date_review', 'time_review', 'user_name', 'user_city', 'review_title', 'review_text', 'review_status',\n",
        "                        'rating', 'clear_conditions_rating', 'polite_staff_rating', 'support_rating', 'app_site_rating',\n",
        "                        'bank_name', 'is_bank_ans', 'time_bank_ans', 'date_bank_ans', 'bank_text_ans'])\n",
        "\n",
        "err = open('/content/drive/MyDrive/bank_reviews_nlp/errors_2.txt', 'a')\n",
        "\n",
        "with ThreadPoolExecutor(max_workers=8) as executor:\n",
        "  futures = [executor.submit(get_review, url) for url in urls]\n",
        "  for future in tqdm(as_completed(futures), total=len(urls)):\n",
        "    try:\n",
        "      results = future.result()\n",
        "      add_row = True\n",
        "    except Exception as exc:\n",
        "      add_row = False\n",
        "      err.write(str(type(exc)) + '\\n')\n",
        "    finally:\n",
        "      if add_row == True:\n",
        "        write_to_csv(results)\n",
        "      else:\n",
        "        pass\n",
        "\n",
        "w_file.close()\n",
        "err.close()"
      ],
      "metadata": {
        "colab": {
          "base_uri": "https://localhost:8080/"
        },
        "id": "qCP6yEqeKsgJ",
        "outputId": "d35fa1cd-abca-4331-89f0-68f8ebe3391f"
      },
      "execution_count": 7,
      "outputs": [
        {
          "output_type": "stream",
          "name": "stderr",
          "text": [
            "100%|██████████| 1001/1001 [05:26<00:00,  3.06it/s]"
          ]
        },
        {
          "output_type": "stream",
          "name": "stdout",
          "text": [
            "CPU times: user 5min 4s, sys: 5.25 s, total: 5min 9s\n",
            "Wall time: 5min 27s\n"
          ]
        },
        {
          "output_type": "stream",
          "name": "stderr",
          "text": [
            "\n"
          ]
        }
      ]
    },
    {
      "cell_type": "markdown",
      "source": [
        "Для скачивания всех отзывов понадобилось около 45 часов. Так как у colab есть ограничение в 12 часов, отзывы парсились в несколько разных файлов, а затем объединялись."
      ],
      "metadata": {
        "id": "88ZvocIiswhU"
      }
    }
  ],
  "metadata": {
    "colab": {
      "provenance": []
    },
    "kernelspec": {
      "display_name": "Python 3",
      "name": "python3"
    },
    "language_info": {
      "name": "python"
    }
  },
  "nbformat": 4,
  "nbformat_minor": 0
}